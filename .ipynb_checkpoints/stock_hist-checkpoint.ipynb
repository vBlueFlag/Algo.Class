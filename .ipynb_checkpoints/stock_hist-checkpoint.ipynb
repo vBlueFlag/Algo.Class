{
 "cells": [
  {
   "cell_type": "code",
   "execution_count": 76,
   "metadata": {
    "collapsed": true
   },
   "outputs": [],
   "source": [
    "import pandas as pd"
   ]
  },
  {
   "cell_type": "code",
   "execution_count": 77,
   "metadata": {
    "collapsed": true
   },
   "outputs": [],
   "source": [
    "import matplotlib.pyplot as plt\n",
    "%matplotlib inline"
   ]
  },
  {
   "cell_type": "code",
   "execution_count": 78,
   "metadata": {
    "collapsed": false
   },
   "outputs": [],
   "source": [
    "df40 = pd.read_pickle('000040.data')\n",
    "df215 = pd.read_pickle('000215.data')\n",
    "df480 = pd.read_pickle('000480.data')\n",
    "df1515 = pd.read_pickle('001515.data')\n",
    "df3547 = pd.read_pickle('003547.data')"
   ]
  },
  {
   "cell_type": "code",
   "execution_count": 79,
   "metadata": {
    "collapsed": false
   },
   "outputs": [
    {
     "data": {
      "text/html": [
       "<div>\n",
       "<table border=\"1\" class=\"dataframe\">\n",
       "  <thead>\n",
       "    <tr style=\"text-align: right;\">\n",
       "      <th></th>\n",
       "      <th>Open</th>\n",
       "      <th>High</th>\n",
       "      <th>Low</th>\n",
       "      <th>Close</th>\n",
       "      <th>Volume</th>\n",
       "      <th>Adj Close</th>\n",
       "    </tr>\n",
       "    <tr>\n",
       "      <th>Date</th>\n",
       "      <th></th>\n",
       "      <th></th>\n",
       "      <th></th>\n",
       "      <th></th>\n",
       "      <th></th>\n",
       "      <th></th>\n",
       "    </tr>\n",
       "  </thead>\n",
       "  <tbody>\n",
       "    <tr>\n",
       "      <th>2010-01-04</th>\n",
       "      <td>560.0</td>\n",
       "      <td>610.0</td>\n",
       "      <td>560.0</td>\n",
       "      <td>595.0</td>\n",
       "      <td>1111200</td>\n",
       "      <td>595.0</td>\n",
       "    </tr>\n",
       "    <tr>\n",
       "      <th>2010-01-05</th>\n",
       "      <td>595.0</td>\n",
       "      <td>605.0</td>\n",
       "      <td>575.0</td>\n",
       "      <td>590.0</td>\n",
       "      <td>878000</td>\n",
       "      <td>590.0</td>\n",
       "    </tr>\n",
       "    <tr>\n",
       "      <th>2010-01-06</th>\n",
       "      <td>605.0</td>\n",
       "      <td>655.0</td>\n",
       "      <td>585.0</td>\n",
       "      <td>605.0</td>\n",
       "      <td>4769000</td>\n",
       "      <td>605.0</td>\n",
       "    </tr>\n",
       "    <tr>\n",
       "      <th>2010-01-07</th>\n",
       "      <td>605.0</td>\n",
       "      <td>615.0</td>\n",
       "      <td>590.0</td>\n",
       "      <td>605.0</td>\n",
       "      <td>914700</td>\n",
       "      <td>605.0</td>\n",
       "    </tr>\n",
       "    <tr>\n",
       "      <th>2010-01-08</th>\n",
       "      <td>610.0</td>\n",
       "      <td>620.0</td>\n",
       "      <td>595.0</td>\n",
       "      <td>620.0</td>\n",
       "      <td>771900</td>\n",
       "      <td>620.0</td>\n",
       "    </tr>\n",
       "  </tbody>\n",
       "</table>\n",
       "</div>"
      ],
      "text/plain": [
       "             Open   High    Low  Close   Volume  Adj Close\n",
       "Date                                                      \n",
       "2010-01-04  560.0  610.0  560.0  595.0  1111200      595.0\n",
       "2010-01-05  595.0  605.0  575.0  590.0   878000      590.0\n",
       "2010-01-06  605.0  655.0  585.0  605.0  4769000      605.0\n",
       "2010-01-07  605.0  615.0  590.0  605.0   914700      605.0\n",
       "2010-01-08  610.0  620.0  595.0  620.0   771900      620.0"
      ]
     },
     "execution_count": 79,
     "metadata": {},
     "output_type": "execute_result"
    }
   ],
   "source": [
    "df40.head(5)"
   ]
  },
  {
   "cell_type": "code",
   "execution_count": 80,
   "metadata": {
    "collapsed": false,
    "scrolled": true
   },
   "outputs": [
    {
     "data": {
      "text/html": [
       "<div>\n",
       "<table border=\"1\" class=\"dataframe\">\n",
       "  <thead>\n",
       "    <tr style=\"text-align: right;\">\n",
       "      <th></th>\n",
       "      <th>Open</th>\n",
       "      <th>High</th>\n",
       "      <th>Low</th>\n",
       "      <th>Close</th>\n",
       "      <th>Volume</th>\n",
       "      <th>Adj Close</th>\n",
       "    </tr>\n",
       "  </thead>\n",
       "  <tbody>\n",
       "    <tr>\n",
       "      <th>count</th>\n",
       "      <td>1564.000000</td>\n",
       "      <td>1564.000000</td>\n",
       "      <td>1564.000000</td>\n",
       "      <td>1564.000000</td>\n",
       "      <td>1.564000e+03</td>\n",
       "      <td>1564.000000</td>\n",
       "    </tr>\n",
       "    <tr>\n",
       "      <th>mean</th>\n",
       "      <td>766.274297</td>\n",
       "      <td>784.265985</td>\n",
       "      <td>749.108696</td>\n",
       "      <td>766.014706</td>\n",
       "      <td>1.887223e+06</td>\n",
       "      <td>766.014706</td>\n",
       "    </tr>\n",
       "    <tr>\n",
       "      <th>std</th>\n",
       "      <td>263.572131</td>\n",
       "      <td>272.424220</td>\n",
       "      <td>254.992564</td>\n",
       "      <td>263.604291</td>\n",
       "      <td>4.768649e+06</td>\n",
       "      <td>263.604291</td>\n",
       "    </tr>\n",
       "    <tr>\n",
       "      <th>min</th>\n",
       "      <td>422.000000</td>\n",
       "      <td>435.000000</td>\n",
       "      <td>414.000000</td>\n",
       "      <td>429.000000</td>\n",
       "      <td>0.000000e+00</td>\n",
       "      <td>429.000000</td>\n",
       "    </tr>\n",
       "    <tr>\n",
       "      <th>25%</th>\n",
       "      <td>549.750000</td>\n",
       "      <td>560.000000</td>\n",
       "      <td>541.000000</td>\n",
       "      <td>549.000000</td>\n",
       "      <td>3.186750e+05</td>\n",
       "      <td>549.000000</td>\n",
       "    </tr>\n",
       "    <tr>\n",
       "      <th>50%</th>\n",
       "      <td>685.000000</td>\n",
       "      <td>704.000000</td>\n",
       "      <td>670.000000</td>\n",
       "      <td>683.500000</td>\n",
       "      <td>6.131500e+05</td>\n",
       "      <td>683.500000</td>\n",
       "    </tr>\n",
       "    <tr>\n",
       "      <th>75%</th>\n",
       "      <td>988.000000</td>\n",
       "      <td>1005.000000</td>\n",
       "      <td>965.750000</td>\n",
       "      <td>989.000000</td>\n",
       "      <td>1.357825e+06</td>\n",
       "      <td>989.000000</td>\n",
       "    </tr>\n",
       "    <tr>\n",
       "      <th>max</th>\n",
       "      <td>1725.000000</td>\n",
       "      <td>1770.000000</td>\n",
       "      <td>1510.000000</td>\n",
       "      <td>1615.000000</td>\n",
       "      <td>6.992880e+07</td>\n",
       "      <td>1615.000000</td>\n",
       "    </tr>\n",
       "  </tbody>\n",
       "</table>\n",
       "</div>"
      ],
      "text/plain": [
       "              Open         High          Low        Close        Volume  \\\n",
       "count  1564.000000  1564.000000  1564.000000  1564.000000  1.564000e+03   \n",
       "mean    766.274297   784.265985   749.108696   766.014706  1.887223e+06   \n",
       "std     263.572131   272.424220   254.992564   263.604291  4.768649e+06   \n",
       "min     422.000000   435.000000   414.000000   429.000000  0.000000e+00   \n",
       "25%     549.750000   560.000000   541.000000   549.000000  3.186750e+05   \n",
       "50%     685.000000   704.000000   670.000000   683.500000  6.131500e+05   \n",
       "75%     988.000000  1005.000000   965.750000   989.000000  1.357825e+06   \n",
       "max    1725.000000  1770.000000  1510.000000  1615.000000  6.992880e+07   \n",
       "\n",
       "         Adj Close  \n",
       "count  1564.000000  \n",
       "mean    766.014706  \n",
       "std     263.604291  \n",
       "min     429.000000  \n",
       "25%     549.000000  \n",
       "50%     683.500000  \n",
       "75%     989.000000  \n",
       "max    1615.000000  "
      ]
     },
     "execution_count": 80,
     "metadata": {},
     "output_type": "execute_result"
    }
   ],
   "source": [
    "df40.describe()"
   ]
  },
  {
   "cell_type": "code",
   "execution_count": 81,
   "metadata": {
    "collapsed": false
   },
   "outputs": [
    {
     "data": {
      "text/plain": [
       "(array([ 384.,  325.,  233.,  143.,  166.,  150.,   96.,   31.,   28.,    8.]),\n",
       " array([  429. ,   547.6,   666.2,   784.8,   903.4,  1022. ,  1140.6,\n",
       "         1259.2,  1377.8,  1496.4,  1615. ]),\n",
       " <a list of 10 Patch objects>)"
      ]
     },
     "execution_count": 81,
     "metadata": {},
     "output_type": "execute_result"
    },
    {
     "data": {
      "image/png": "[encoded data removed]",
      "text/plain": [
       "<matplotlib.figure.Figure at 0x12dc4b650>"
      ]
     },
     "metadata": {},
     "output_type": "display_data"
    }
   ],
   "source": [
    "plt.hist(df40.Close)"
   ]
  },
  {
   "cell_type": "code",
   "execution_count": null,
   "metadata": {
    "collapsed": true
   },
   "outputs": [],
   "source": []
  },
  {
   "cell_type": "code",
   "execution_count": 82,
   "metadata": {
    "collapsed": false,
    "scrolled": true
   },
   "outputs": [
    {
     "data": {
      "text/html": [
       "<div>\n",
       "<table border=\"1\" class=\"dataframe\">\n",
       "  <thead>\n",
       "    <tr style=\"text-align: right;\">\n",
       "      <th></th>\n",
       "      <th>Open</th>\n",
       "      <th>High</th>\n",
       "      <th>Low</th>\n",
       "      <th>Close</th>\n",
       "      <th>Volume</th>\n",
       "      <th>Adj Close</th>\n",
       "    </tr>\n",
       "  </thead>\n",
       "  <tbody>\n",
       "    <tr>\n",
       "      <th>count</th>\n",
       "      <td>1510.000000</td>\n",
       "      <td>1510.000000</td>\n",
       "      <td>1510.000000</td>\n",
       "      <td>1510.000000</td>\n",
       "      <td>1.510000e+03</td>\n",
       "      <td>1510.000000</td>\n",
       "    </tr>\n",
       "    <tr>\n",
       "      <th>mean</th>\n",
       "      <td>26976.324503</td>\n",
       "      <td>27353.509934</td>\n",
       "      <td>26530.993377</td>\n",
       "      <td>26997.019868</td>\n",
       "      <td>1.033768e+04</td>\n",
       "      <td>26002.417623</td>\n",
       "    </tr>\n",
       "    <tr>\n",
       "      <th>std</th>\n",
       "      <td>5648.858274</td>\n",
       "      <td>5750.640406</td>\n",
       "      <td>5524.316360</td>\n",
       "      <td>5627.798713</td>\n",
       "      <td>3.324972e+04</td>\n",
       "      <td>5638.506321</td>\n",
       "    </tr>\n",
       "    <tr>\n",
       "      <th>min</th>\n",
       "      <td>17150.000000</td>\n",
       "      <td>17200.000000</td>\n",
       "      <td>16700.000000</td>\n",
       "      <td>17050.000000</td>\n",
       "      <td>0.000000e+00</td>\n",
       "      <td>16160.000000</td>\n",
       "    </tr>\n",
       "    <tr>\n",
       "      <th>25%</th>\n",
       "      <td>22950.000000</td>\n",
       "      <td>23200.000000</td>\n",
       "      <td>22650.000000</td>\n",
       "      <td>23000.000000</td>\n",
       "      <td>3.100000e+03</td>\n",
       "      <td>21792.020000</td>\n",
       "    </tr>\n",
       "    <tr>\n",
       "      <th>50%</th>\n",
       "      <td>26525.000000</td>\n",
       "      <td>27000.000000</td>\n",
       "      <td>26025.000000</td>\n",
       "      <td>26600.000000</td>\n",
       "      <td>6.000000e+03</td>\n",
       "      <td>25653.580000</td>\n",
       "    </tr>\n",
       "    <tr>\n",
       "      <th>75%</th>\n",
       "      <td>29850.000000</td>\n",
       "      <td>30200.000000</td>\n",
       "      <td>29300.000000</td>\n",
       "      <td>29837.500000</td>\n",
       "      <td>1.130000e+04</td>\n",
       "      <td>28966.690000</td>\n",
       "    </tr>\n",
       "    <tr>\n",
       "      <th>max</th>\n",
       "      <td>49000.000000</td>\n",
       "      <td>49150.000000</td>\n",
       "      <td>47800.000000</td>\n",
       "      <td>48700.000000</td>\n",
       "      <td>1.125300e+06</td>\n",
       "      <td>47727.770000</td>\n",
       "    </tr>\n",
       "  </tbody>\n",
       "</table>\n",
       "</div>"
      ],
      "text/plain": [
       "               Open          High           Low         Close        Volume  \\\n",
       "count   1510.000000   1510.000000   1510.000000   1510.000000  1.510000e+03   \n",
       "mean   26976.324503  27353.509934  26530.993377  26997.019868  1.033768e+04   \n",
       "std     5648.858274   5750.640406   5524.316360   5627.798713  3.324972e+04   \n",
       "min    17150.000000  17200.000000  16700.000000  17050.000000  0.000000e+00   \n",
       "25%    22950.000000  23200.000000  22650.000000  23000.000000  3.100000e+03   \n",
       "50%    26525.000000  27000.000000  26025.000000  26600.000000  6.000000e+03   \n",
       "75%    29850.000000  30200.000000  29300.000000  29837.500000  1.130000e+04   \n",
       "max    49000.000000  49150.000000  47800.000000  48700.000000  1.125300e+06   \n",
       "\n",
       "          Adj Close  \n",
       "count   1510.000000  \n",
       "mean   26002.417623  \n",
       "std     5638.506321  \n",
       "min    16160.000000  \n",
       "25%    21792.020000  \n",
       "50%    25653.580000  \n",
       "75%    28966.690000  \n",
       "max    47727.770000  "
      ]
     },
     "execution_count": 82,
     "metadata": {},
     "output_type": "execute_result"
    }
   ],
   "source": [
    "df215.describe()"
   ]
  },
  {
   "cell_type": "code",
   "execution_count": 83,
   "metadata": {
    "collapsed": false
   },
   "outputs": [
    {
     "data": {
      "text/plain": [
       "(array([ 117.,  320.,  314.,  371.,  213.,   87.,   34.,   12.,    7.,   35.]),\n",
       " array([ 17050.,  20215.,  23380.,  26545.,  29710.,  32875.,  36040.,\n",
       "         39205.,  42370.,  45535.,  48700.]),\n",
       " <a list of 10 Patch objects>)"
      ]
     },
     "execution_count": 83,
     "metadata": {},
     "output_type": "execute_result"
    },
    {
     "data": {
      "image/png": "[encoded data removed]",
      "text/plain": [
       "<matplotlib.figure.Figure at 0x12dfe2350>"
      ]
     },
     "metadata": {},
     "output_type": "display_data"
    }
   ],
   "source": [
    "plt.hist(df215.Close)"
   ]
  },
  {
   "cell_type": "code",
   "execution_count": 84,
   "metadata": {
    "collapsed": false
   },
   "outputs": [
    {
     "data": {
      "text/html": [
       "<div>\n",
       "<table border=\"1\" class=\"dataframe\">\n",
       "  <thead>\n",
       "    <tr style=\"text-align: right;\">\n",
       "      <th></th>\n",
       "      <th>Open</th>\n",
       "      <th>High</th>\n",
       "      <th>Low</th>\n",
       "      <th>Close</th>\n",
       "      <th>Volume</th>\n",
       "      <th>Adj Close</th>\n",
       "    </tr>\n",
       "  </thead>\n",
       "  <tbody>\n",
       "    <tr>\n",
       "      <th>count</th>\n",
       "      <td>1564.000000</td>\n",
       "      <td>1564.000000</td>\n",
       "      <td>1564.000000</td>\n",
       "      <td>1564.000000</td>\n",
       "      <td>1564.000000</td>\n",
       "      <td>1564.000000</td>\n",
       "    </tr>\n",
       "    <tr>\n",
       "      <th>mean</th>\n",
       "      <td>78293.158568</td>\n",
       "      <td>79208.439898</td>\n",
       "      <td>77302.365729</td>\n",
       "      <td>78288.938619</td>\n",
       "      <td>2076.023018</td>\n",
       "      <td>68643.481822</td>\n",
       "    </tr>\n",
       "    <tr>\n",
       "      <th>std</th>\n",
       "      <td>21980.585524</td>\n",
       "      <td>22386.232582</td>\n",
       "      <td>21525.861208</td>\n",
       "      <td>22018.697903</td>\n",
       "      <td>4429.431814</td>\n",
       "      <td>24281.059827</td>\n",
       "    </tr>\n",
       "    <tr>\n",
       "      <th>min</th>\n",
       "      <td>51000.000000</td>\n",
       "      <td>51500.000000</td>\n",
       "      <td>50300.000000</td>\n",
       "      <td>50800.000000</td>\n",
       "      <td>0.000000</td>\n",
       "      <td>38736.870000</td>\n",
       "    </tr>\n",
       "    <tr>\n",
       "      <th>25%</th>\n",
       "      <td>61400.000000</td>\n",
       "      <td>62000.000000</td>\n",
       "      <td>60700.000000</td>\n",
       "      <td>61200.000000</td>\n",
       "      <td>600.000000</td>\n",
       "      <td>49781.580000</td>\n",
       "    </tr>\n",
       "    <tr>\n",
       "      <th>50%</th>\n",
       "      <td>66700.000000</td>\n",
       "      <td>67200.000000</td>\n",
       "      <td>65700.000000</td>\n",
       "      <td>66700.000000</td>\n",
       "      <td>1200.000000</td>\n",
       "      <td>55008.650000</td>\n",
       "    </tr>\n",
       "    <tr>\n",
       "      <th>75%</th>\n",
       "      <td>94550.000000</td>\n",
       "      <td>95325.000000</td>\n",
       "      <td>93000.000000</td>\n",
       "      <td>94925.000000</td>\n",
       "      <td>2400.000000</td>\n",
       "      <td>88862.810000</td>\n",
       "    </tr>\n",
       "    <tr>\n",
       "      <th>max</th>\n",
       "      <td>135000.000000</td>\n",
       "      <td>136500.000000</td>\n",
       "      <td>131500.000000</td>\n",
       "      <td>135000.000000</td>\n",
       "      <td>117100.000000</td>\n",
       "      <td>124748.800000</td>\n",
       "    </tr>\n",
       "  </tbody>\n",
       "</table>\n",
       "</div>"
      ],
      "text/plain": [
       "                Open           High            Low          Close  \\\n",
       "count    1564.000000    1564.000000    1564.000000    1564.000000   \n",
       "mean    78293.158568   79208.439898   77302.365729   78288.938619   \n",
       "std     21980.585524   22386.232582   21525.861208   22018.697903   \n",
       "min     51000.000000   51500.000000   50300.000000   50800.000000   \n",
       "25%     61400.000000   62000.000000   60700.000000   61200.000000   \n",
       "50%     66700.000000   67200.000000   65700.000000   66700.000000   \n",
       "75%     94550.000000   95325.000000   93000.000000   94925.000000   \n",
       "max    135000.000000  136500.000000  131500.000000  135000.000000   \n",
       "\n",
       "              Volume      Adj Close  \n",
       "count    1564.000000    1564.000000  \n",
       "mean     2076.023018   68643.481822  \n",
       "std      4429.431814   24281.059827  \n",
       "min         0.000000   38736.870000  \n",
       "25%       600.000000   49781.580000  \n",
       "50%      1200.000000   55008.650000  \n",
       "75%      2400.000000   88862.810000  \n",
       "max    117100.000000  124748.800000  "
      ]
     },
     "execution_count": 84,
     "metadata": {},
     "output_type": "execute_result"
    }
   ],
   "source": [
    "df480.describe()"
   ]
  },
  {
   "cell_type": "code",
   "execution_count": 85,
   "metadata": {
    "collapsed": false,
    "scrolled": true
   },
   "outputs": [
    {
     "data": {
      "text/plain": [
       "(array([ 199.,  620.,   81.,  182.,   76.,   94.,   91.,   97.,   96.,   28.]),\n",
       " array([  50800.,   59220.,   67640.,   76060.,   84480.,   92900.,\n",
       "         101320.,  109740.,  118160.,  126580.,  135000.]),\n",
       " <a list of 10 Patch objects>)"
      ]
     },
     "execution_count": 85,
     "metadata": {},
     "output_type": "execute_result"
    },
    {
     "data": {
      "image/png": "[encoded data removed]",
      "text/plain": [
       "<matplotlib.figure.Figure at 0x12d2349d0>"
      ]
     },
     "metadata": {},
     "output_type": "display_data"
    }
   ],
   "source": [
    "plt.hist(df480.Close)"
   ]
  },
  {
   "cell_type": "code",
   "execution_count": 86,
   "metadata": {
    "collapsed": false,
    "scrolled": true
   },
   "outputs": [
    {
     "data": {
      "text/html": [
       "<div>\n",
       "<table border=\"1\" class=\"dataframe\">\n",
       "  <thead>\n",
       "    <tr style=\"text-align: right;\">\n",
       "      <th></th>\n",
       "      <th>Open</th>\n",
       "      <th>High</th>\n",
       "      <th>Low</th>\n",
       "      <th>Close</th>\n",
       "      <th>Volume</th>\n",
       "      <th>Adj Close</th>\n",
       "    </tr>\n",
       "  </thead>\n",
       "  <tbody>\n",
       "    <tr>\n",
       "      <th>count</th>\n",
       "      <td>1509.000000</td>\n",
       "      <td>1509.000000</td>\n",
       "      <td>1509.000000</td>\n",
       "      <td>1509.000000</td>\n",
       "      <td>1.509000e+03</td>\n",
       "      <td>1509.000000</td>\n",
       "    </tr>\n",
       "    <tr>\n",
       "      <th>mean</th>\n",
       "      <td>1293.316103</td>\n",
       "      <td>1325.256461</td>\n",
       "      <td>1260.890656</td>\n",
       "      <td>1290.218688</td>\n",
       "      <td>5.171001e+04</td>\n",
       "      <td>1279.384884</td>\n",
       "    </tr>\n",
       "    <tr>\n",
       "      <th>std</th>\n",
       "      <td>525.640563</td>\n",
       "      <td>557.485548</td>\n",
       "      <td>494.899881</td>\n",
       "      <td>521.156179</td>\n",
       "      <td>1.752583e+05</td>\n",
       "      <td>515.486716</td>\n",
       "    </tr>\n",
       "    <tr>\n",
       "      <th>min</th>\n",
       "      <td>670.000000</td>\n",
       "      <td>678.000000</td>\n",
       "      <td>652.000000</td>\n",
       "      <td>672.000000</td>\n",
       "      <td>0.000000e+00</td>\n",
       "      <td>672.000000</td>\n",
       "    </tr>\n",
       "    <tr>\n",
       "      <th>25%</th>\n",
       "      <td>909.000000</td>\n",
       "      <td>919.000000</td>\n",
       "      <td>886.000000</td>\n",
       "      <td>904.000000</td>\n",
       "      <td>3.900000e+03</td>\n",
       "      <td>904.000000</td>\n",
       "    </tr>\n",
       "    <tr>\n",
       "      <th>50%</th>\n",
       "      <td>1075.000000</td>\n",
       "      <td>1100.000000</td>\n",
       "      <td>1050.000000</td>\n",
       "      <td>1070.000000</td>\n",
       "      <td>1.060000e+04</td>\n",
       "      <td>1066.150000</td>\n",
       "    </tr>\n",
       "    <tr>\n",
       "      <th>75%</th>\n",
       "      <td>1600.000000</td>\n",
       "      <td>1620.000000</td>\n",
       "      <td>1565.000000</td>\n",
       "      <td>1600.000000</td>\n",
       "      <td>3.150000e+04</td>\n",
       "      <td>1564.440000</td>\n",
       "    </tr>\n",
       "    <tr>\n",
       "      <th>max</th>\n",
       "      <td>4000.000000</td>\n",
       "      <td>4420.000000</td>\n",
       "      <td>3500.000000</td>\n",
       "      <td>3800.000000</td>\n",
       "      <td>2.961100e+06</td>\n",
       "      <td>3800.000000</td>\n",
       "    </tr>\n",
       "  </tbody>\n",
       "</table>\n",
       "</div>"
      ],
      "text/plain": [
       "              Open         High          Low        Close        Volume  \\\n",
       "count  1509.000000  1509.000000  1509.000000  1509.000000  1.509000e+03   \n",
       "mean   1293.316103  1325.256461  1260.890656  1290.218688  5.171001e+04   \n",
       "std     525.640563   557.485548   494.899881   521.156179  1.752583e+05   \n",
       "min     670.000000   678.000000   652.000000   672.000000  0.000000e+00   \n",
       "25%     909.000000   919.000000   886.000000   904.000000  3.900000e+03   \n",
       "50%    1075.000000  1100.000000  1050.000000  1070.000000  1.060000e+04   \n",
       "75%    1600.000000  1620.000000  1565.000000  1600.000000  3.150000e+04   \n",
       "max    4000.000000  4420.000000  3500.000000  3800.000000  2.961100e+06   \n",
       "\n",
       "         Adj Close  \n",
       "count  1509.000000  \n",
       "mean   1279.384884  \n",
       "std     515.486716  \n",
       "min     672.000000  \n",
       "25%     904.000000  \n",
       "50%    1066.150000  \n",
       "75%    1564.440000  \n",
       "max    3800.000000  "
      ]
     },
     "execution_count": 86,
     "metadata": {},
     "output_type": "execute_result"
    }
   ],
   "source": [
    "df1515.describe()"
   ]
  },
  {
   "cell_type": "code",
   "execution_count": 87,
   "metadata": {
    "collapsed": false
   },
   "outputs": [
    {
     "data": {
      "text/plain": [
       "(array([ 551.,  350.,  257.,  188.,   69.,   61.,   15.,    7.,    6.,    5.]),\n",
       " array([  672. ,   984.8,  1297.6,  1610.4,  1923.2,  2236. ,  2548.8,\n",
       "         2861.6,  3174.4,  3487.2,  3800. ]),\n",
       " <a list of 10 Patch objects>)"
      ]
     },
     "execution_count": 87,
     "metadata": {},
     "output_type": "execute_result"
    },
    {
     "data": {
      "image/png": "[encoded data removed]",
      "text/plain": [
       "<matplotlib.figure.Figure at 0x12d214bd0>"
      ]
     },
     "metadata": {},
     "output_type": "display_data"
    }
   ],
   "source": [
    "plt.hist(df1515.Close)"
   ]
  },
  {
   "cell_type": "code",
   "execution_count": 88,
   "metadata": {
    "collapsed": false
   },
   "outputs": [
    {
     "data": {
      "text/html": [
       "<div>\n",
       "<table border=\"1\" class=\"dataframe\">\n",
       "  <thead>\n",
       "    <tr style=\"text-align: right;\">\n",
       "      <th></th>\n",
       "      <th>Open</th>\n",
       "      <th>High</th>\n",
       "      <th>Low</th>\n",
       "      <th>Close</th>\n",
       "      <th>Volume</th>\n",
       "      <th>Adj Close</th>\n",
       "    </tr>\n",
       "  </thead>\n",
       "  <tbody>\n",
       "    <tr>\n",
       "      <th>count</th>\n",
       "      <td>1534.000000</td>\n",
       "      <td>1534.000000</td>\n",
       "      <td>1534.000000</td>\n",
       "      <td>1534.000000</td>\n",
       "      <td>1534.000000</td>\n",
       "      <td>1534.000000</td>\n",
       "    </tr>\n",
       "    <tr>\n",
       "      <th>mean</th>\n",
       "      <td>6928.435463</td>\n",
       "      <td>6969.061278</td>\n",
       "      <td>6874.351369</td>\n",
       "      <td>6926.786180</td>\n",
       "      <td>22208.930900</td>\n",
       "      <td>5643.917660</td>\n",
       "    </tr>\n",
       "    <tr>\n",
       "      <th>std</th>\n",
       "      <td>1305.776230</td>\n",
       "      <td>1308.005420</td>\n",
       "      <td>1302.924574</td>\n",
       "      <td>1303.734276</td>\n",
       "      <td>29513.105292</td>\n",
       "      <td>653.019486</td>\n",
       "    </tr>\n",
       "    <tr>\n",
       "      <th>min</th>\n",
       "      <td>5000.000000</td>\n",
       "      <td>5020.000000</td>\n",
       "      <td>4995.000000</td>\n",
       "      <td>5000.000000</td>\n",
       "      <td>0.000000</td>\n",
       "      <td>4513.250000</td>\n",
       "    </tr>\n",
       "    <tr>\n",
       "      <th>25%</th>\n",
       "      <td>5970.000000</td>\n",
       "      <td>6000.000000</td>\n",
       "      <td>5920.000000</td>\n",
       "      <td>5970.000000</td>\n",
       "      <td>6100.000000</td>\n",
       "      <td>5038.440000</td>\n",
       "    </tr>\n",
       "    <tr>\n",
       "      <th>50%</th>\n",
       "      <td>6570.000000</td>\n",
       "      <td>6615.000000</td>\n",
       "      <td>6500.000000</td>\n",
       "      <td>6560.000000</td>\n",
       "      <td>12750.000000</td>\n",
       "      <td>5641.770000</td>\n",
       "    </tr>\n",
       "    <tr>\n",
       "      <th>75%</th>\n",
       "      <td>7857.500000</td>\n",
       "      <td>7907.500000</td>\n",
       "      <td>7810.000000</td>\n",
       "      <td>7857.500000</td>\n",
       "      <td>27100.000000</td>\n",
       "      <td>6158.220000</td>\n",
       "    </tr>\n",
       "    <tr>\n",
       "      <th>max</th>\n",
       "      <td>9720.000000</td>\n",
       "      <td>9740.000000</td>\n",
       "      <td>9650.000000</td>\n",
       "      <td>9710.000000</td>\n",
       "      <td>468400.000000</td>\n",
       "      <td>7609.390000</td>\n",
       "    </tr>\n",
       "  </tbody>\n",
       "</table>\n",
       "</div>"
      ],
      "text/plain": [
       "              Open         High          Low        Close         Volume  \\\n",
       "count  1534.000000  1534.000000  1534.000000  1534.000000    1534.000000   \n",
       "mean   6928.435463  6969.061278  6874.351369  6926.786180   22208.930900   \n",
       "std    1305.776230  1308.005420  1302.924574  1303.734276   29513.105292   \n",
       "min    5000.000000  5020.000000  4995.000000  5000.000000       0.000000   \n",
       "25%    5970.000000  6000.000000  5920.000000  5970.000000    6100.000000   \n",
       "50%    6570.000000  6615.000000  6500.000000  6560.000000   12750.000000   \n",
       "75%    7857.500000  7907.500000  7810.000000  7857.500000   27100.000000   \n",
       "max    9720.000000  9740.000000  9650.000000  9710.000000  468400.000000   \n",
       "\n",
       "         Adj Close  \n",
       "count  1534.000000  \n",
       "mean   5643.917660  \n",
       "std     653.019486  \n",
       "min    4513.250000  \n",
       "25%    5038.440000  \n",
       "50%    5641.770000  \n",
       "75%    6158.220000  \n",
       "max    7609.390000  "
      ]
     },
     "execution_count": 88,
     "metadata": {},
     "output_type": "execute_result"
    }
   ],
   "source": [
    "df3547.describe()"
   ]
  },
  {
   "cell_type": "code",
   "execution_count": 89,
   "metadata": {
    "collapsed": false
   },
   "outputs": [
    {
     "data": {
      "text/plain": [
       "(array([ 156.,  207.,  328.,  225.,  152.,   72.,   68.,  100.,   88.,  138.]),\n",
       " array([ 5000.,  5471.,  5942.,  6413.,  6884.,  7355.,  7826.,  8297.,\n",
       "         8768.,  9239.,  9710.]),\n",
       " <a list of 10 Patch objects>)"
      ]
     },
     "execution_count": 89,
     "metadata": {},
     "output_type": "execute_result"
    },
    {
     "data": {
      "image/png": "[encoded data removed]",
      "text/plain": [
       "<matplotlib.figure.Figure at 0x121db0850>"
      ]
     },
     "metadata": {},
     "output_type": "display_data"
    }
   ],
   "source": [
    "plt.hist(df3547.Close)"
   ]
  }
 ],
 "metadata": {
  "kernelspec": {
   "display_name": "Python 2",
   "language": "python",
   "name": "python2"
  },
  "language_info": {
   "codemirror_mode": {
    "name": "ipython",
    "version": 2
   },
   "file_extension": ".py",
   "mimetype": "text/x-python",
   "name": "python",
   "nbconvert_exporter": "python",
   "pygments_lexer": "ipython2",
   "version": "2.7.11"
  }
 },
 "nbformat": 4,
 "nbformat_minor": 0
}
